{
 "cells": [
  {
   "cell_type": "code",
   "execution_count": 3,
   "id": "6075b8fc",
   "metadata": {},
   "outputs": [],
   "source": [
    "import os\n",
    "import sys\n",
    "sys.path.append('../utils') \n",
    "\n",
    "from utils import *\n",
    "\n",
    "%matplotlib inline"
   ]
  },
  {
   "cell_type": "markdown",
   "id": "bae246ea",
   "metadata": {},
   "source": [
    "# Data"
   ]
  },
  {
   "cell_type": "code",
   "execution_count": 4,
   "id": "b97ebffc",
   "metadata": {},
   "outputs": [],
   "source": [
    "# df = pd.read_csv('../data/RAW_recipes.csv')\n",
    "df = pd.read_pickle('../data/normalized_dataset.pkl')"
   ]
  },
  {
   "cell_type": "markdown",
   "id": "3456a7b3",
   "metadata": {},
   "source": [
    "# Preprocessing"
   ]
  },
  {
   "cell_type": "code",
   "execution_count": 3,
   "id": "e1a5259a",
   "metadata": {},
   "outputs": [],
   "source": [
    "# # since lists are not parsed correctly it must be evaluated\n",
    "# df[\"tags_list\"] = df['tags'].apply(eval)\n",
    "# df[\"ingredients_list\"] = df['ingredients'].apply(eval)\n",
    "\n",
    "# # this will let us search for the keywords we input the system\n",
    "# expl_tags = df['tags_list'].explode()\n",
    "# expl_ingredients = df['ingredients_list'].explode()\n",
    "\n",
    "# bathced_expl_lists = [expl_tags, expl_ingredients]\n",
    "\n",
    "# normalize tags and ingredients\n",
    "# todo: also names!\n",
    "\n",
    "# df[\"normalized_tags\"] = df['tags'].apply(normalize_input)\n",
    "# df[\"normalized_ingredients\"] = df['ingredients'].apply(normalize_input)\n",
    "# df['text'] = df['name'].fillna(\"\") + \" \" + df['normalized_tags'] + \" \" + df['normalized_ingredients']\n",
    "\n",
    "# df.to_pickle('normalized_dataset.pkl')\n",
    "\n",
    "\n",
    "## EMBEDDINGS\n",
    "\n",
    "# used to get the embeddings for the recipes\n",
    "# embeddings = model.encode(df['text'].tolist(), show_progress_bar = True)\n",
    "\n",
    "# # save both files\n",
    "# np.save(\"../embeddings/recipe_embeddings.npy\", embeddings)\n",
    "# faiss.write_index(indexes, \"../embeddings/recipe_index.faiss\")"
   ]
  },
  {
   "cell_type": "code",
   "execution_count": 4,
   "id": "b699970d",
   "metadata": {},
   "outputs": [],
   "source": [
    "path_folder = \"../embeddings/\"\n",
    "name_embedding = \"recipe_embeddings.npy\"\n",
    "name_index = \"recipe_index.faiss\"\n",
    "\n",
    "model, embeddings, indexes = load_model(path_folder+name_embedding, path_folder+name_index)"
   ]
  },
  {
   "cell_type": "code",
   "execution_count": 5,
   "id": "e871f056",
   "metadata": {},
   "outputs": [],
   "source": [
    "query = \"chilean recipe with onions\"\n",
    "results = search_recipe(query, model = model, indexes = indexes, df = df)"
   ]
  },
  {
   "cell_type": "code",
   "execution_count": null,
   "id": "1bf132ce",
   "metadata": {},
   "outputs": [],
   "source": []
  }
 ],
 "metadata": {
  "kernelspec": {
   "display_name": "nlp",
   "language": "python",
   "name": "python3"
  },
  "language_info": {
   "codemirror_mode": {
    "name": "ipython",
    "version": 3
   },
   "file_extension": ".py",
   "mimetype": "text/x-python",
   "name": "python",
   "nbconvert_exporter": "python",
   "pygments_lexer": "ipython3",
   "version": "3.12.11"
  }
 },
 "nbformat": 4,
 "nbformat_minor": 5
}
